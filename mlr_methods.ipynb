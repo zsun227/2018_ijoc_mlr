{
 "cells": [
  {
   "cell_type": "code",
   "execution_count": 1,
   "metadata": {
    "scrolled": true
   },
   "outputs": [],
   "source": [
    "import pandas as pd\n",
    "csv1 = pd.read_csv('data1_1_4level.csv')\n",
    "csv2 = pd.read_csv('data1_2_no.csv')\n",
    "csv3 = pd.read_csv('data1_3_indiv.csv')\n",
    "csv4 = pd.read_csv('data1_4_indinstu.csv')\n",
    "csv5 = pd.read_csv('data1_5_instu.csv')"
   ]
  },
  {
   "cell_type": "code",
   "execution_count": 2,
   "metadata": {},
   "outputs": [
    {
     "name": "stdout",
     "output_type": "stream",
     "text": [
      "27247\n"
     ]
    }
   ],
   "source": [
    "csv = csv1.dropna(how='any')\n",
    "print len(csv)"
   ]
  },
  {
   "cell_type": "code",
   "execution_count": 3,
   "metadata": {},
   "outputs": [
    {
     "data": {
      "text/plain": [
       "{0.0: 0, 1.0: 1, 2.0: 2, 3.0: 3}"
      ]
     },
     "execution_count": 3,
     "metadata": {},
     "output_type": "execute_result"
    }
   ],
   "source": [
    "features = list(csv.columns.values)\n",
    "f_dict = {}\n",
    "for feature in features:\n",
    "    f_set = set(csv[feature].values)\n",
    "    fdict = {}\n",
    "    for i in range(len(f_set)):\n",
    "        fdict[list(f_set)[i]] = int(i)\n",
    "    f_dict[feature] = fdict\n",
    "f_dict.pop(\"citecorp\")\n",
    "f_dict.pop('citeinte')\n",
    "f_dict.pop('citeord')\n",
    "f_dict.pop('citepoli')\n",
    "f_dict.pop('timeper')\n",
    "# f_dict.pop('conflict_no')"
   ]
  },
  {
   "cell_type": "code",
   "execution_count": 4,
   "metadata": {},
   "outputs": [],
   "source": [
    "remove_list = ['citecorp','citeinte','citeord','citepoli','timeper']"
   ]
  },
  {
   "cell_type": "code",
   "execution_count": 5,
   "metadata": {},
   "outputs": [
    {
     "data": {
      "text/plain": [
       "(['page',\n",
       "  'nature',\n",
       "  'source1',\n",
       "  'judhead',\n",
       "  'illust1',\n",
       "  'illust2',\n",
       "  'backg',\n",
       "  'related',\n",
       "  'papergroup',\n",
       "  'theme2',\n",
       "  'locality',\n",
       "  'critical1',\n",
       "  'conflictscale',\n",
       "  'attribu2',\n",
       "  'solution2',\n",
       "  'citepoli',\n",
       "  'citecorp',\n",
       "  'citeinte',\n",
       "  'citeord',\n",
       "  'timeper'],\n",
       " {'attribu2': {'hk govern': 0, 'indiv': 1, 'others': 2},\n",
       "  'backg': {'No': 1, 'Yes': 0},\n",
       "  'conflictscale': {'indiv vs. indiv': 2,\n",
       "   'indiv vs. institu': 1,\n",
       "   'instiu': 0,\n",
       "   'no': 3},\n",
       "  'critical1': {'hk': 0, 'indiv': 3, 'mainland': 2, 'no': 4, 'others': 1},\n",
       "  'illust1': {'Graphic': 0,\n",
       "   'Graphic statistics': 5,\n",
       "   'Logo': 3,\n",
       "   'No': 1,\n",
       "   'Past occurrences': 4,\n",
       "   'Photo': 2},\n",
       "  'illust2': {'Graphic': 0,\n",
       "   'Graphic statistics': 5,\n",
       "   'Logo': 3,\n",
       "   'No': 1,\n",
       "   'Past occurrences': 4,\n",
       "   'Photo': 2},\n",
       "  'judhead': {'Mild': 0, 'No': 3, 'Somewhat strong': 2, 'Strong': 1},\n",
       "  'locality': {'hk': 0, 'mainland': 1, 'others': 2},\n",
       "  'nature': {'Editorial': 2, 'News': 1, 'Opinion/Commentary': 0},\n",
       "  'page': {'No': 1, 'Yes': 0},\n",
       "  'papergroup': {'left': 2, 'middle': 0, 'right': 1},\n",
       "  'related': {'No': 0, 'One': 2, 'Two or more': 1},\n",
       "  'solution2': {'hk': 0, 'indiv': 1, 'others': 2},\n",
       "  'source1': {'Chinese wire': 1,\n",
       "   'Contributor': 6,\n",
       "   'Internet': 5,\n",
       "   'N.A.': 3,\n",
       "   'Other': 4,\n",
       "   'Other local media': 0,\n",
       "   'Other non-local media': 8,\n",
       "   'Press release': 2,\n",
       "   'Western wire': 7},\n",
       "  'theme2': {'others': 1, 'poli_econ': 0}})"
      ]
     },
     "execution_count": 5,
     "metadata": {},
     "output_type": "execute_result"
    }
   ],
   "source": [
    "features,f_dict"
   ]
  },
  {
   "cell_type": "code",
   "execution_count": 6,
   "metadata": {},
   "outputs": [
    {
     "name": "stderr",
     "output_type": "stream",
     "text": [
      "/home/zhongkai/.local/lib/python2.7/site-packages/pandas/core/generic.py:5821: SettingWithCopyWarning: \n",
      "A value is trying to be set on a copy of a slice from a DataFrame.\n",
      "Try using .loc[row_indexer,col_indexer] = value instead\n",
      "\n",
      "See the caveats in the documentation: http://pandas.pydata.org/pandas-docs/stable/indexing.html#indexing-view-versus-copy\n",
      "  regex=regex)\n"
     ]
    }
   ],
   "source": [
    "csv.replace(f_dict, inplace = True)"
   ]
  },
  {
   "cell_type": "code",
   "execution_count": 7,
   "metadata": {},
   "outputs": [],
   "source": [
    "x_feature = list(csv.columns.values)\n",
    "x_feature.remove('conflictscale')\n",
    "\n",
    "y_feature = 'conflictscale'"
   ]
  },
  {
   "cell_type": "code",
   "execution_count": 8,
   "metadata": {},
   "outputs": [
    {
     "data": {
      "text/plain": [
       "['page',\n",
       " 'nature',\n",
       " 'source1',\n",
       " 'judhead',\n",
       " 'illust1',\n",
       " 'illust2',\n",
       " 'backg',\n",
       " 'related',\n",
       " 'papergroup',\n",
       " 'theme2',\n",
       " 'locality',\n",
       " 'critical1',\n",
       " 'attribu2',\n",
       " 'solution2',\n",
       " 'citepoli',\n",
       " 'citecorp',\n",
       " 'citeinte',\n",
       " 'citeord',\n",
       " 'timeper']"
      ]
     },
     "execution_count": 8,
     "metadata": {},
     "output_type": "execute_result"
    }
   ],
   "source": [
    "x_feature"
   ]
  },
  {
   "cell_type": "code",
   "execution_count": 9,
   "metadata": {},
   "outputs": [
    {
     "name": "stderr",
     "output_type": "stream",
     "text": [
      "/usr/local/lib/python2.7/dist-packages/sklearn/cross_validation.py:41: DeprecationWarning: This module was deprecated in version 0.18 in favor of the model_selection module into which all the refactored classes and functions are moved. Also note that the interface of the new CV iterators are different from that of this module. This module will be removed in 0.20.\n",
      "  \"This module will be removed in 0.20.\", DeprecationWarning)\n"
     ]
    }
   ],
   "source": [
    "from sklearn.ensemble import GradientBoostingClassifier\n",
    "from sklearn.model_selection import GridSearchCV\n",
    "from sklearn.linear_model import LogisticRegression\n",
    "from sklearn import metrics, cross_validation\n",
    "from sklearn import datasets\n",
    "from numpy import array\n",
    "from sklearn.ensemble import AdaBoostClassifier\n",
    "from sklearn.ensemble import RandomForestClassifier\n",
    "from sklearn.svm import SVC\n",
    "from sklearn.linear_model import LogisticRegression"
   ]
  },
  {
   "cell_type": "code",
   "execution_count": 10,
   "metadata": {},
   "outputs": [],
   "source": [
    "predicted = cross_validation.cross_val_predict(SVC(), csv.loc[:,x_feature], csv.loc[:,y_feature], cv=10)"
   ]
  },
  {
   "cell_type": "code",
   "execution_count": 11,
   "metadata": {
    "scrolled": true
   },
   "outputs": [
    {
     "name": "stdout",
     "output_type": "stream",
     "text": [
      "             precision    recall  f1-score   support\n",
      "\n",
      "          0       0.44      0.12      0.19      1589\n",
      "          1       0.38      0.10      0.16      1648\n",
      "          2       0.57      0.00      0.01       917\n",
      "          3       0.86      0.98      0.92     23093\n",
      "\n",
      "avg / total       0.80      0.85      0.80     27247\n",
      "\n"
     ]
    }
   ],
   "source": [
    "y_list = csv[y_feature].tolist()\n",
    "y_array = array(y_list)\n",
    "print metrics.classification_report(y_array, predicted)"
   ]
  },
  {
   "cell_type": "code",
   "execution_count": 12,
   "metadata": {},
   "outputs": [
    {
     "name": "stdout",
     "output_type": "stream",
     "text": [
      "0.265382158954\n",
      "0.0740311390989\n",
      "0.0472515427573\n",
      "0.0076210840457\n",
      "0.0551919564496\n",
      "0.0958089048925\n",
      "0.511472836694\n",
      "0.0187986588859\n",
      "0.0932950292936\n",
      "0.916825594138\n",
      "0.186031703386\n",
      "0.0726085039701\n",
      "0.575388540895\n",
      "0.0757326424214\n",
      "0.256173022638\n",
      "0.014239617191\n",
      "0.31050315109\n",
      "0.497806703377\n",
      "0.109159480333\n"
     ]
    }
   ],
   "source": [
    "\n",
    "features_names = x_feature \n",
    "svm = SVC(kernel='linear')\n",
    "svm.fit(csv.loc[:,x_feature], csv.loc[:,y_feature])\n",
    "\n",
    "ll = svm.coef_[0].tolist()\n",
    "for i in range(len(x_feature)): \n",
    "    print abs(ll[i])"
   ]
  },
  {
   "cell_type": "code",
   "execution_count": null,
   "metadata": {},
   "outputs": [],
   "source": [
    "features_names = x_feature\n",
    "rf = GradientBoostingClassifier()\n",
    "rf.fit(csv.loc[:,x_feature], csv.loc[:,y_feature])\n",
    "l = list(rf.feature_importances_)\n",
    "for i in range(len(x_feature)):\n",
    "    print x_feature[i], abs(l[i])"
   ]
  }
 ],
 "metadata": {
  "kernelspec": {
   "display_name": "Python 2",
   "language": "python",
   "name": "python2"
  },
  "language_info": {
   "codemirror_mode": {
    "name": "ipython",
    "version": 2
   },
   "file_extension": ".py",
   "mimetype": "text/x-python",
   "name": "python",
   "nbconvert_exporter": "python",
   "pygments_lexer": "ipython2",
   "version": "2.7.12"
  }
 },
 "nbformat": 4,
 "nbformat_minor": 2
}

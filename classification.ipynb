{
 "cells": [
  {
   "cell_type": "code",
   "execution_count": 171,
   "metadata": {
    "collapsed": true
   },
   "outputs": [],
   "source": [
    "import pandas as pd\n",
    "from matplotlib import pyplot as plt\n",
    "from sklearn import svm\n",
    "\n",
    "def f_importances(coef, names):\n",
    "    imp = coef\n",
    "    imp,names = zip(*sorted(zip(imp,names)))\n",
    "    plt.barh(range(len(names)), imp, align='center')\n",
    "    plt.yticks(range(len(names)), names)\n",
    "    plt.show()\n",
    "\n",
    "# features_names = ['input1', 'input2']\n",
    "# svm = svm.SVC(kernel='linear')\n",
    "# svm.fit(X, Y)\n",
    "# f_importances(svm.coef_, features_names)"
   ]
  },
  {
   "cell_type": "code",
   "execution_count": 183,
   "metadata": {
    "collapsed": true
   },
   "outputs": [],
   "source": [
    "csv1 = pd.read_csv('nursery_2_all.data.csv')\n",
    "csv2 = pd.read_csv('nursery_2_notrec.data.csv')\n",
    "csv3 = pd.read_csv('nursery_2_priority.data.csv')\n",
    "csv4 = pd.read_csv('nursery_2_spec.data.csv')"
   ]
  },
  {
   "cell_type": "code",
   "execution_count": 184,
   "metadata": {
    "collapsed": false
   },
   "outputs": [
    {
     "name": "stdout",
     "output_type": "stream",
     "text": [
      "12630\n"
     ]
    }
   ],
   "source": [
    "csv = csv2\n",
    "print len(csv)"
   ]
  },
  {
   "cell_type": "code",
   "execution_count": 180,
   "metadata": {
    "collapsed": true
   },
   "outputs": [],
   "source": [
    "features = list(csv.columns.values)\n",
    "f_dict = {}\n",
    "for feature in features:\n",
    "    f_set = set(csv[feature].values)\n",
    "    fdict = {}\n",
    "    for i in range(len(f_set)):\n",
    "        fdict[list(f_set)[i]] = int(i)\n",
    "    f_dict[feature] = fdict"
   ]
  },
  {
   "cell_type": "code",
   "execution_count": 185,
   "metadata": {
    "collapsed": false
   },
   "outputs": [
    {
     "data": {
      "text/plain": [
       "{'children': {'1': 0, '2': 2, '3': 1, 'more': 3},\n",
       " 'class': {'not_recom': 2, 'priority': 0, 'spec_prior': 1},\n",
       " 'finance': {'convenient': 0, 'inconv': 1},\n",
       " 'form': {'complete': 2, 'completed': 0, 'foster': 1, 'incomplete': 3},\n",
       " 'has_nurs': {'critical': 4,\n",
       "  'improper': 1,\n",
       "  'less_proper': 3,\n",
       "  'proper': 0,\n",
       "  'very_crit': 2},\n",
       " 'health': {'not_recom': 2, 'priority': 0, 'recommended': 1},\n",
       " 'housing': {'convenient': 0, 'critical': 1, 'less_conv': 2},\n",
       " 'parents': {'great_pret': 0, 'pretentious': 1, 'usual': 2},\n",
       " 'social': {'nonprob': 2, 'problematic': 0, 'slightly_prob': 1}}"
      ]
     },
     "execution_count": 185,
     "metadata": {},
     "output_type": "execute_result"
    }
   ],
   "source": [
    "f_dict"
   ]
  },
  {
   "cell_type": "code",
   "execution_count": 79,
   "metadata": {
    "collapsed": false
   },
   "outputs": [],
   "source": [
    "# f_dict.pop('children',None)"
   ]
  },
  {
   "cell_type": "code",
   "execution_count": 111,
   "metadata": {
    "collapsed": false
   },
   "outputs": [
    {
     "data": {
      "text/plain": [
       "{'children': {'1': 0, '2': 2, '3': 1, 'more': 3},\n",
       " 'class': {'not_recom': 2, 'priority': 0, 'spec_prior': 1},\n",
       " 'finance': {'convenient': 0, 'inconv': 1},\n",
       " 'form': {'complete': 2, 'completed': 0, 'foster': 1, 'incomplete': 3},\n",
       " 'has_nurs': {'critical': 4,\n",
       "  'improper': 1,\n",
       "  'less_proper': 3,\n",
       "  'proper': 0,\n",
       "  'very_crit': 2},\n",
       " 'health': {'not_recom': 2, 'priority': 0, 'recommended': 1},\n",
       " 'housing': {'convenient': 0, 'critical': 1, 'less_conv': 2},\n",
       " 'parents': {'great_pret': 0, 'pretentious': 1, 'usual': 2},\n",
       " 'social': {'nonprob': 2, 'problematic': 0, 'slightly_prob': 1}}"
      ]
     },
     "execution_count": 111,
     "metadata": {},
     "output_type": "execute_result"
    }
   ],
   "source": [
    "f_dict"
   ]
  },
  {
   "cell_type": "code",
   "execution_count": 186,
   "metadata": {
    "collapsed": false
   },
   "outputs": [],
   "source": [
    "csv.replace(f_dict, inplace = True)\n",
    "x_feature = list(csv.columns.values)\n",
    "x_feature.remove('class')\n",
    "y_feature = 'class'"
   ]
  },
  {
   "cell_type": "code",
   "execution_count": 128,
   "metadata": {
    "collapsed": false
   },
   "outputs": [],
   "source": [
    "from sklearn.ensemble import GradientBoostingClassifier\n",
    "from sklearn.model_selection import GridSearchCV\n",
    "# grid_values = {'penalty': ['l1','l2'], 'C': [0.001,0.01,0.1,1,10,100,1000]}\n",
    "# best_lg = GridSearchCV(lg,param_grid = grid_values,scoring='precision').fit(gun_embedding, gun_label)\n",
    "from sklearn.linear_model import LogisticRegression\n",
    "from sklearn import metrics, cross_validation\n",
    "from sklearn import datasets\n",
    "from numpy import array\n",
    "from sklearn.ensemble import AdaBoostClassifier\n",
    "from sklearn.ensemble import RandomForestClassifier\n",
    "from sklearn.svm import SVC\n",
    "from sklearn.linear_model import LogisticRegression"
   ]
  },
  {
   "cell_type": "code",
   "execution_count": 103,
   "metadata": {
    "collapsed": false
   },
   "outputs": [],
   "source": [
    "predicted = cross_validation.cross_val_predict(SVC(), csv.loc[:,x_feature], csv.loc[:,y_feature], cv=10)"
   ]
  },
  {
   "cell_type": "code",
   "execution_count": 92,
   "metadata": {
    "collapsed": false
   },
   "outputs": [
    {
     "name": "stdout",
     "output_type": "stream",
     "text": [
      "             precision    recall  f1-score   support\n",
      "\n",
      "          0       0.00      0.00      0.00      4320\n",
      "          1       0.48      0.48      0.48      8310\n",
      "\n",
      "avg / total       0.32      0.32      0.32     12630\n",
      "\n"
     ]
    }
   ],
   "source": [
    "y_list = csv[y_feature].tolist()\n",
    "y_array = array(y_list)\n",
    "print metrics.classification_report(y_array, predicted)"
   ]
  },
  {
   "cell_type": "code",
   "execution_count": 28,
   "metadata": {
    "collapsed": false
   },
   "outputs": [
    {
     "data": {
      "text/plain": [
       "{0, 1, 2}"
      ]
     },
     "execution_count": 28,
     "metadata": {},
     "output_type": "execute_result"
    }
   ],
   "source": [
    "set(csv1['class'].values)"
   ]
  },
  {
   "cell_type": "code",
   "execution_count": 104,
   "metadata": {
    "collapsed": false
   },
   "outputs": [
    {
     "data": {
      "text/plain": [
       "SVC(C=1.0, cache_size=200, class_weight=None, coef0=0.0,\n",
       "  decision_function_shape='ovr', degree=3, gamma='auto', kernel='linear',\n",
       "  max_iter=-1, probability=False, random_state=None, shrinking=True,\n",
       "  tol=0.001, verbose=False)"
      ]
     },
     "execution_count": 104,
     "metadata": {},
     "output_type": "execute_result"
    }
   ],
   "source": [
    "features_names = x_feature\n",
    "svm = SVC(kernel='linear')\n",
    "svm.fit(csv.loc[:,x_feature], csv.loc[:,y_feature])\n"
   ]
  },
  {
   "cell_type": "code",
   "execution_count": 105,
   "metadata": {
    "collapsed": false
   },
   "outputs": [
    {
     "data": {
      "text/plain": [
       "numpy.ndarray"
      ]
     },
     "execution_count": 105,
     "metadata": {},
     "output_type": "execute_result"
    }
   ],
   "source": [
    "type(svm.coef_)"
   ]
  },
  {
   "cell_type": "code",
   "execution_count": 106,
   "metadata": {
    "collapsed": false
   },
   "outputs": [],
   "source": [
    "ll = svm.coef_[0].tolist()"
   ]
  },
  {
   "cell_type": "code",
   "execution_count": 142,
   "metadata": {
    "collapsed": false
   },
   "outputs": [
    {
     "name": "stdout",
     "output_type": "stream",
     "text": [
      "parents 0.727405391534\n",
      "has_nurs 0.272725946081\n",
      "form 3.70566596056e-05\n",
      "children 0.0912193708337\n",
      "housing 0.181603997594\n",
      "finance 0.27197813625\n",
      "social 0.181751824395\n",
      "health 0.909262203199\n"
     ]
    }
   ],
   "source": [
    "for i in range(len(x_feature)):\n",
    "    print x_feature[i], abs(ll[i])"
   ]
  },
  {
   "cell_type": "code",
   "execution_count": 49,
   "metadata": {
    "collapsed": false
   },
   "outputs": [
    {
     "data": {
      "text/plain": [
       "array([  9.14477250e-01,  -3.62054361e-01,  -2.71479293e-05,\n",
       "        -1.52272709e-01,  -2.28565895e-01,  -3.04778687e-01,\n",
       "         3.04781919e-01,   1.49544957e+00])"
      ]
     },
     "execution_count": 49,
     "metadata": {},
     "output_type": "execute_result"
    }
   ],
   "source": []
  },
  {
   "cell_type": "code",
   "execution_count": 187,
   "metadata": {
    "collapsed": false
   },
   "outputs": [
    {
     "name": "stdout",
     "output_type": "stream",
     "text": [
      "parents 0.0\n",
      "has_nurs 0.0\n",
      "form 0.0\n",
      "children 0.0\n",
      "housing 0.0\n",
      "finance 0.0\n",
      "social 0.0\n",
      "health 0.73\n"
     ]
    }
   ],
   "source": [
    "features_names = x_feature\n",
    "rf = GradientBoostingClassifier()\n",
    "rf.fit(csv.loc[:,x_feature], csv.loc[:,y_feature])\n",
    "l = list(rf.feature_importances_)\n",
    "for i in range(len(x_feature)):\n",
    "    print x_feature[i], abs(l[i])"
   ]
  },
  {
   "cell_type": "code",
   "execution_count": null,
   "metadata": {
    "collapsed": true
   },
   "outputs": [],
   "source": []
  }
 ],
 "metadata": {
  "kernelspec": {
   "display_name": "Python 2",
   "language": "python",
   "name": "python2"
  },
  "language_info": {
   "codemirror_mode": {
    "name": "ipython",
    "version": 2
   },
   "file_extension": ".py",
   "mimetype": "text/x-python",
   "name": "python",
   "nbconvert_exporter": "python",
   "pygments_lexer": "ipython2",
   "version": "2.7.13"
  }
 },
 "nbformat": 4,
 "nbformat_minor": 2
}
